{
 "cells": [
  {
   "cell_type": "markdown",
   "metadata": {},
   "source": [
    "compare each pp schedule: simple case, T_F=1, T_B=2, M = inf, i"
   ]
  },
  {
   "cell_type": "code",
   "execution_count": 20,
   "metadata": {},
   "outputs": [],
   "source": [
    "# set PYTHONPATH\n",
    "import sys\n",
    "sys.path.append('/users/ctianche/Megatron-LM/')\n",
    "\n",
    "from typing import Type\n",
    "from IPython.display import display\n",
    "from megatron.core.pipeline_parallel.cdc_scheduler.pp_generator.pipeline import GpipePipeline, Hanayo1F1BPipeline, HeuristicLoopZBPipeline, HeuristicWaveZBPipeline, HeuristicWaveZBPipelineV2, HeuristicZBVPipeline, Interleaved1F1BPipeline, OneFOneBPipeline, Pipeline, ZBH1Pipeline, HeuristicZBUDPipeline\n",
    "from megatron.core.pipeline_parallel.cdc_scheduler.pp_generator.pipeline_config import SystemConfig\n",
    "from megatron.core.pipeline_parallel.cdc_scheduler.pp_generator.util import generate_comm_mat\n",
    "\n",
    "\n",
    "def test_pipeline(\n",
    "    PipelineClass: Type[Pipeline],\n",
    "    sys_config: SystemConfig,\n",
    ") -> None:\n",
    "    pipeline = PipelineClass(sys_config)\n",
    "    pipeline.schedule()\n",
    "    pipeline.solve_dependencies()\n",
    "    print(f\"{PipelineClass.__name__} runtime: {pipeline.get_schedule_time(device_wise=True)}, bubble: {pipeline.get_bubble_ratio(device_wise=True):.2f}\")\n",
    "    display(pipeline.print_schedule(include_info=True if sys_config.num_devices < 10 else False))\n",
    "\n",
    "def test_basic_schedule(num_dev=32, num_microbatches=64, T_F=200, T_B=200, T_W=200, comm_matrix=None):\n",
    "    num_chunks = 2\n",
    "    T_F_chunk = T_F / num_chunks\n",
    "    T_B_chunk = T_B / num_chunks\n",
    "    T_W_chunk = T_W / num_chunks\n",
    "    M_F = 2\n",
    "    M_B = -0.3\n",
    "    M_W = -1.7\n",
    "    mem_factor = [1.25]\n",
    "    M_limit = num_dev * num_chunks * M_F\n",
    "\n",
    "    if comm_matrix is None:\n",
    "        comm_matrix = generate_comm_mat(1, num_dev, 0, 0)\n",
    "    # gpipe, 1f1b,\n",
    "    sys_config = SystemConfig(\n",
    "        num_devices=num_dev,\n",
    "        num_microbatches=num_microbatches,\n",
    "        T_F=T_F,\n",
    "        T_B=T_B + T_W,\n",
    "        T_C=comm_matrix,\n",
    "    )\n",
    "    # iv1f1b, hanayo\n",
    "    interleaved_sys_config = SystemConfig(\n",
    "        num_devices=num_dev,\n",
    "        num_microbatches=num_microbatches,\n",
    "        T_F=T_F_chunk,\n",
    "        T_B=T_B_chunk + T_W_chunk,\n",
    "        T_C=comm_matrix,\n",
    "        num_chunks=num_chunks,\n",
    "    )\n",
    "\n",
    "    zbh1_sys_config = SystemConfig(\n",
    "        num_devices=num_dev,\n",
    "        num_microbatches=num_microbatches,\n",
    "        T_F=T_F,\n",
    "        T_B=T_B,\n",
    "        T_W=T_W,\n",
    "        M_F=M_F,\n",
    "        M_B=M_B,\n",
    "        M_W=M_W,\n",
    "        M_Limit=M_limit / 2,\n",
    "        T_C=comm_matrix,\n",
    "    )\n",
    "    heur_zbv_sys_config = SystemConfig(\n",
    "        num_devices=num_dev,\n",
    "        num_microbatches=num_microbatches,\n",
    "        T_F=T_F_chunk,\n",
    "        T_B=T_B_chunk,\n",
    "        T_W=T_W_chunk,\n",
    "        T_C=comm_matrix,\n",
    "        num_chunks=num_chunks,\n",
    "        M_F=M_F,\n",
    "        M_B=M_B,\n",
    "        M_W=M_W,\n",
    "        M_Limit=M_limit,\n",
    "    )\n",
    "    additional_cfg_heur = [SystemConfig(\n",
    "        num_devices=num_dev,\n",
    "        num_microbatches=num_microbatches,\n",
    "        T_F=T_F_chunk,\n",
    "        T_B=T_B_chunk,\n",
    "        T_W=T_W_chunk,\n",
    "        T_C=comm_matrix,\n",
    "        num_chunks=num_chunks,\n",
    "        M_F=M_F,\n",
    "        M_B=M_B,\n",
    "        M_W=M_W,\n",
    "        M_Limit=M_limit * f,\n",
    "    ) for f in mem_factor\n",
    "    ]\n",
    "    # test_pipeline(OneFOneBPipeline, sys_config)\n",
    "    # test_pipeline(GpipePipeline, sys_config)\n",
    "    # test_pipeline(Interleaved1F1BPipeline, interleaved_sys_config)\n",
    "    # test_pipeline(Hanayo1F1BPipeline, interleaved_sys_config)\n",
    "    # test_pipeline(ZBH1Pipeline, zbh1_sys_config)\n",
    "    # test_pipeline(HeuristicZBUDPipeline,zbh1_sys_config)\n",
    "    # test_pipeline(HeuristicLoopZBPipeline, heur_zbv_sys_config)\n",
    "    try:\n",
    "        zbv = HeuristicZBVPipeline(heur_zbv_sys_config)\n",
    "        zbv.schedule()\n",
    "        zbv.solve_dependencies()\n",
    "    except Exception as e:\n",
    "        zbv = None\n",
    "    if zbv is not None:\n",
    "        print(f\"ZBV runtime: {zbv.get_schedule_time(device_wise=True)}, bubble: {zbv.get_bubble_ratio(device_wise=True):.2f}\")\n",
    "        zbv.print_schedule(include_info=True)\n",
    "    from copy import deepcopy\n",
    "    # test_pipeline(HeuristicWaveZBPipeline, heur_zbv_sys_config)\n",
    "    # for oneBoneW in [True, False]:\n",
    "    #     for teardonw in [True, False]:\n",
    "    #         print(f'Heuristic: oneBoneW: {oneBoneW}, tear_down: {teardonw}')\n",
    "    #         heur_zbv_sys_config.oneBoneW = oneBoneW\n",
    "    #         heur_zbv_sys_config.teardown = teardonw\n",
    "    #         test_pipeline(HeuristicWaveZBPipelineV2, heur_zbv_sys_config)\n",
    "    # test_pipeline(HeuristicWaveZBPipelineV2, heur_zbv_sys_config)\n",
    "    # for factor, cfg in zip(mem_factor, additional_cfg_heur):\n",
    "    #     print(f'Heuristic: mem_factor: {factor}')\n",
    "    #     test_pipeline(HeuristicWaveZBPipeline, cfg)\n",
    "    #     test_pipeline(HeuristicWaveZBPipelineV2, cfg)\n",
    "    candidates = []\n",
    "    try:\n",
    "        wave_v1 = HeuristicWaveZBPipeline(heur_zbv_sys_config)\n",
    "        wave_v1.schedule()\n",
    "        wave_v1.solve_dependencies()\n",
    "    except Exception as e:\n",
    "        wave_v1 = None\n",
    "    if wave_v1 is not None:\n",
    "        candidates.append(wave_v1)\n",
    "    \n",
    "    for aux_1b1w in [True,False]:\n",
    "        for aux_tear_down_opt in [True,False]:\n",
    "            for aux_w_if_b_mem_limited in [True,False]:\n",
    "                cfg = deepcopy(heur_zbv_sys_config)\n",
    "                cfg.aux_1b1w = aux_1b1w\n",
    "                cfg.aux_tear_down_opt = aux_tear_down_opt\n",
    "                cfg.aux_w_if_b_mem_limited = aux_w_if_b_mem_limited\n",
    "                try:\n",
    "                    pipe = HeuristicWaveZBPipelineV2(cfg)\n",
    "                    pipe.schedule()\n",
    "                    pipe.solve_dependencies()\n",
    "                except Exception as e:\n",
    "                    pipe = None\n",
    "                if pipe is not None:\n",
    "                    candidates.append(pipe)\n",
    "    # select the best pipeline\n",
    "    best_pipeline = None\n",
    "    best_time = float('inf')\n",
    "    for pipe in candidates:\n",
    "        time = pipe.get_schedule_time(device_wise=True)\n",
    "        if time < best_time:\n",
    "            best_time = time\n",
    "            best_pipeline = pipe\n",
    "    assert best_pipeline is not None\n",
    "    print(f\"Best pipeline: {best_pipeline.__class__.__name__}, runtime: {best_time}, bubble: {best_pipeline.get_bubble_ratio(device_wise=True):.2f}\")\n",
    "    best_pipeline.print_schedule(include_info=True)\n",
    "                \n",
    "                "
   ]
  },
  {
   "cell_type": "code",
   "execution_count": 21,
   "metadata": {},
   "outputs": [
    {
     "name": "stdout",
     "output_type": "stream",
     "text": [
      "ZBV runtime: 4800.0, bubble: 0.00\n",
      "Best pipeline: HeuristicWaveZBPipelineV2, runtime: 4900.0, bubble: 0.02\n"
     ]
    }
   ],
   "source": [
    "test_basic_schedule(num_dev=4, num_microbatches=8, T_F=200, T_B=200, T_W=200, comm_matrix=generate_comm_mat(2, 2, 0, 0))"
   ]
  },
  {
   "cell_type": "code",
   "execution_count": 22,
   "metadata": {},
   "outputs": [
    {
     "name": "stdout",
     "output_type": "stream",
     "text": [
      "ZBV runtime: 5400.0, bubble: 0.11\n",
      "Best pipeline: HeuristicWaveZBPipelineV2, runtime: 5500.0, bubble: 0.13\n"
     ]
    }
   ],
   "source": [
    "test_basic_schedule(num_dev=4, num_microbatches=8, T_F=200, T_B=200, T_W=200, comm_matrix=generate_comm_mat(2, 2, 0, 100))"
   ]
  },
  {
   "cell_type": "code",
   "execution_count": 23,
   "metadata": {},
   "outputs": [
    {
     "name": "stdout",
     "output_type": "stream",
     "text": [
      "ZBV runtime: 4670.0, bubble: 0.18\n",
      "Best pipeline: HeuristicWaveZBPipelineV2, runtime: 4870.0, bubble: 0.21\n"
     ]
    }
   ],
   "source": [
    "test_basic_schedule(num_dev=4, num_microbatches=8, T_F=200, T_B=180, T_W=100, comm_matrix=generate_comm_mat(2, 2, 0, 100))"
   ]
  },
  {
   "cell_type": "code",
   "execution_count": 24,
   "metadata": {},
   "outputs": [
    {
     "name": "stdout",
     "output_type": "stream",
     "text": [
      "ZBV runtime: 60210.0, bubble: 0.43\n",
      "Best pipeline: HeuristicWaveZBPipelineV2, runtime: 42450.0, bubble: 0.19\n"
     ]
    }
   ],
   "source": [
    "test_basic_schedule(num_dev=32, num_microbatches=64, T_F=200, T_B=200, T_W=140, comm_matrix=generate_comm_mat(2, 16, 0, 400))"
   ]
  },
  {
   "cell_type": "code",
   "execution_count": 25,
   "metadata": {},
   "outputs": [
    {
     "name": "stdout",
     "output_type": "stream",
     "text": [
      "ZBV runtime: 45150.0, bubble: 0.15\n",
      "Best pipeline: HeuristicWaveZBPipelineV2, runtime: 47600.0, bubble: 0.19\n"
     ]
    }
   ],
   "source": [
    "test_basic_schedule(num_dev=32, num_microbatches=64, T_F=200, T_B=250, T_W=150, comm_matrix=generate_comm_mat(4, 8, 0, 100))"
   ]
  },
  {
   "cell_type": "code",
   "execution_count": 26,
   "metadata": {},
   "outputs": [
    {
     "name": "stdout",
     "output_type": "stream",
     "text": [
      "ZBV runtime: 4860.0, bubble: 0.01\n",
      "Best pipeline: HeuristicWaveZBPipelineV2, runtime: 5130.0, bubble: 0.06\n"
     ]
    }
   ],
   "source": [
    "test_basic_schedule(num_dev=4, num_microbatches=8, T_F=180, T_B=220, T_W=200, comm_matrix=generate_comm_mat(1, 4, 0, 0))"
   ]
  },
  {
   "cell_type": "code",
   "execution_count": 27,
   "metadata": {},
   "outputs": [
    {
     "name": "stdout",
     "output_type": "stream",
     "text": [
      "ZBV runtime: 40420.0, bubble: 0.05\n",
      "Best pipeline: HeuristicWaveZBPipelineV2, runtime: 41660.0, bubble: 0.08\n"
     ]
    }
   ],
   "source": [
    "test_basic_schedule(num_dev=32, num_microbatches=64, T_F=200, T_B=200, T_W=200, comm_matrix=generate_comm_mat(2, 16, 0, 80))"
   ]
  },
  {
   "cell_type": "code",
   "execution_count": 28,
   "metadata": {},
   "outputs": [
    {
     "name": "stdout",
     "output_type": "stream",
     "text": [
      "ZBV runtime: 65860.0, bubble: 0.36\n",
      "Best pipeline: HeuristicWaveZBPipelineV2, runtime: 51050.0, bubble: 0.17\n"
     ]
    }
   ],
   "source": [
    "test_basic_schedule(num_dev=32, num_microbatches=64, T_F=220, T_B=240, T_W=200, comm_matrix=generate_comm_mat(2, 16, 0, 400))"
   ]
  }
 ],
 "metadata": {
  "kernelspec": {
   "display_name": "dev",
   "language": "python",
   "name": "python3"
  },
  "language_info": {
   "codemirror_mode": {
    "name": "ipython",
    "version": 3
   },
   "file_extension": ".py",
   "mimetype": "text/x-python",
   "name": "python",
   "nbconvert_exporter": "python",
   "pygments_lexer": "ipython3",
   "version": "3.10.14"
  }
 },
 "nbformat": 4,
 "nbformat_minor": 2
}
