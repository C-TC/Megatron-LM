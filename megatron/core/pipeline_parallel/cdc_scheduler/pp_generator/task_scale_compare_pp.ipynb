{
 "cells": [
  {
   "cell_type": "markdown",
   "metadata": {},
   "source": [
    "compare each pp schedule: simple case, T_F=1, T_B=2, M = inf, i"
   ]
  },
  {
   "cell_type": "code",
   "execution_count": null,
   "metadata": {},
   "outputs": [],
   "source": [
    "from typing import Type\n",
    "from IPython.display import display\n",
    "from pipeline import GpipePipeline, Hanayo1F1BPipeline, HeuristicWaveZBPipeline, HeuristicWaveZBPipelineV2, HeuristicZBVPipeline, Interleaved1F1BPipeline, OneFOneBPipeline, Pipeline, ZBH1Pipeline\n",
    "from pipeline_config import SystemConfig\n",
    "from util import generate_comm_mat\n",
    "\n",
    "\n",
    "def test_pipeline(\n",
    "    PipelineClass: Type[Pipeline],\n",
    "    sys_config: SystemConfig,\n",
    ") -> None:\n",
    "    pipeline = PipelineClass(sys_config)\n",
    "    pipeline.schedule()\n",
    "    pipeline.solve_dependencies()\n",
    "    print(f\"{PipelineClass.__name__} runtime: {pipeline.get_schedule_time(device_wise=True)}, bubble: {pipeline.get_bubble_ratio(device_wise=True):.2f}\")\n",
    "    display(pipeline.print_schedule(include_info=True if sys_config.num_devices < 10 else False))\n",
    "\n",
    "def test_basic_schedule(num_dev=32, num_microbatches=64, T_F=200, T_B=200, T_W=200, comm_matrix=None):\n",
    "    num_chunks = 2\n",
    "    T_F_chunk = T_F / num_chunks\n",
    "    T_B_chunk = T_B / num_chunks\n",
    "    T_W_chunk = T_W / num_chunks\n",
    "    M_F = 2\n",
    "    M_B = -1\n",
    "    M_W = -1\n",
    "    mem_factor = [2]\n",
    "    M_limit = num_dev * num_chunks * M_F\n",
    "\n",
    "    if comm_matrix is None:\n",
    "        comm_matrix = generate_comm_mat(1, num_dev, 0, 0)\n",
    "    # gpipe, 1f1b,\n",
    "    sys_config = SystemConfig(\n",
    "        num_devices=num_dev,\n",
    "        num_microbatches=num_microbatches,\n",
    "        T_F=T_F,\n",
    "        T_B=T_B + T_W,\n",
    "        T_C=comm_matrix,\n",
    "    )\n",
    "    # iv1f1b, hanayo\n",
    "    interleaved_sys_config = SystemConfig(\n",
    "        num_devices=num_dev,\n",
    "        num_microbatches=num_microbatches,\n",
    "        T_F=T_F_chunk,\n",
    "        T_B=T_B_chunk + T_W_chunk,\n",
    "        T_C=comm_matrix,\n",
    "        num_chunks=num_chunks,\n",
    "    )\n",
    "\n",
    "    zbh1_sys_config = SystemConfig(\n",
    "        num_devices=num_dev,\n",
    "        num_microbatches=num_microbatches,\n",
    "        T_F=T_F,\n",
    "        T_B=T_B,\n",
    "        T_W=T_W,\n",
    "        T_C=comm_matrix,\n",
    "    )\n",
    "    heur_zbv_sys_config = SystemConfig(\n",
    "        num_devices=num_dev,\n",
    "        num_microbatches=num_microbatches,\n",
    "        T_F=T_F_chunk,\n",
    "        T_B=T_B_chunk,\n",
    "        T_W=T_W_chunk,\n",
    "        T_C=comm_matrix,\n",
    "        num_chunks=num_chunks,\n",
    "        M_F=M_F,\n",
    "        M_B=M_B,\n",
    "        M_W=M_W,\n",
    "        M_Limit=M_limit,\n",
    "    )\n",
    "    additional_cfg_heur = [SystemConfig(\n",
    "        num_devices=num_dev,\n",
    "        num_microbatches=num_microbatches,\n",
    "        T_F=T_F_chunk,\n",
    "        T_B=T_B_chunk,\n",
    "        T_W=T_W_chunk,\n",
    "        T_C=comm_matrix,\n",
    "        num_chunks=num_chunks,\n",
    "        M_F=M_F,\n",
    "        M_B=M_B,\n",
    "        M_W=M_W,\n",
    "        M_Limit=M_limit * f,\n",
    "    ) for f in mem_factor\n",
    "    ]\n",
    "    test_pipeline(OneFOneBPipeline, sys_config)\n",
    "    test_pipeline(GpipePipeline, sys_config)\n",
    "    test_pipeline(Interleaved1F1BPipeline, interleaved_sys_config)\n",
    "    test_pipeline(Hanayo1F1BPipeline, interleaved_sys_config)\n",
    "    test_pipeline(ZBH1Pipeline, zbh1_sys_config)\n",
    "    test_pipeline(HeuristicZBVPipeline, heur_zbv_sys_config)\n",
    "    test_pipeline(HeuristicWaveZBPipeline, heur_zbv_sys_config)\n",
    "    test_pipeline(HeuristicWaveZBPipelineV2, heur_zbv_sys_config)\n",
    "    for factor, cfg in zip(mem_factor, additional_cfg_heur):\n",
    "        print(f'Heuristic: mem_factor: {factor}')\n",
    "        test_pipeline(HeuristicWaveZBPipeline, cfg)\n",
    "        test_pipeline(HeuristicWaveZBPipelineV2, cfg)\n",
    "    \n",
    "test_basic_schedule(num_dev=4, num_microbatches=8, T_F=200, T_B=200, T_W=200, comm_matrix=generate_comm_mat(2, 2, 0, 800))"
   ]
  },
  {
   "cell_type": "code",
   "execution_count": null,
   "metadata": {},
   "outputs": [],
   "source": [
    "test_basic_schedule(num_dev=32, num_microbatches=64, T_F=200, T_B=200, T_W=200, comm_matrix=generate_comm_mat(1, 32, 0, 0))"
   ]
  },
  {
   "cell_type": "code",
   "execution_count": null,
   "metadata": {},
   "outputs": [],
   "source": [
    "test_basic_schedule(num_dev=4, num_microbatches=8, T_F=200, T_B=250, T_W=150, comm_matrix=generate_comm_mat(1, 4, 0, 0))"
   ]
  },
  {
   "cell_type": "code",
   "execution_count": null,
   "metadata": {},
   "outputs": [],
   "source": [
    "test_basic_schedule(num_dev=32, num_microbatches=64, T_F=200, T_B=250, T_W=150, comm_matrix=generate_comm_mat(1, 32, 0, 0))"
   ]
  },
  {
   "cell_type": "code",
   "execution_count": null,
   "metadata": {},
   "outputs": [],
   "source": [
    "test_basic_schedule(num_dev=4, num_microbatches=8, T_F=180, T_B=220, T_W=200, comm_matrix=generate_comm_mat(1, 4, 0, 0))"
   ]
  },
  {
   "cell_type": "code",
   "execution_count": null,
   "metadata": {},
   "outputs": [],
   "source": [
    "test_basic_schedule(num_dev=32, num_microbatches=64, T_F=200, T_B=200, T_W=200, comm_matrix=generate_comm_mat(2, 16, 0, 800))"
   ]
  },
  {
   "cell_type": "code",
   "execution_count": null,
   "metadata": {},
   "outputs": [],
   "source": [
    "test_basic_schedule(num_dev=32, num_microbatches=64, T_F=220, T_B=240, T_W=200, comm_matrix=generate_comm_mat(2, 16, 0, 800))"
   ]
  }
 ],
 "metadata": {
  "kernelspec": {
   "display_name": "dev",
   "language": "python",
   "name": "python3"
  },
  "language_info": {
   "codemirror_mode": {
    "name": "ipython",
    "version": 3
   },
   "file_extension": ".py",
   "mimetype": "text/x-python",
   "name": "python",
   "nbconvert_exporter": "python",
   "pygments_lexer": "ipython3",
   "version": "3.10.14"
  }
 },
 "nbformat": 4,
 "nbformat_minor": 2
}
