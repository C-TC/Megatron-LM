{
 "cells": [
  {
   "cell_type": "markdown",
   "metadata": {},
   "source": [
    "Official heuristic schedule can not handle insufficient mem case"
   ]
  },
  {
   "cell_type": "code",
   "execution_count": null,
   "metadata": {},
   "outputs": [],
   "source": [
    "\n",
    "from pipeline_config import SystemConfig\n",
    "from pipeline import AutoWaveZBPipeline, HeuristicWaveZBPipeline, HeuristicZBVPipeline\n",
    "from auto_schedule import WaveLikeZBDependencyGraph\n",
    "from util import generate_comm_mat\n",
    "from IPython.display import display\n",
    "\n",
    "def compare_heuristic_milp_zbv(num_dev, num_mb, T_F, T_B, T_W, M_F, M_B, M_W, M_lim, comm_mat, print_schedule=True, with_official=True):\n",
    "    cfg = SystemConfig(\n",
    "        num_devices=num_dev,\n",
    "        num_microbatches=num_mb,\n",
    "        T_F=T_F,\n",
    "        T_B=T_B,\n",
    "        T_W=T_W,\n",
    "        M_F=M_F,\n",
    "        M_B=M_B,\n",
    "        M_W=M_W,\n",
    "        M_Limit=M_lim,\n",
    "        T_C=comm_mat,\n",
    "        num_chunks=2,\n",
    "    )\n",
    "    heur_pp = HeuristicWaveZBPipeline(cfg)\n",
    "    heur_pp.schedule()\n",
    "    heur_pp.solve_dependencies()\n",
    "    dg = WaveLikeZBDependencyGraph(cfg)    \n",
    "    dg.build_ilp()\n",
    "    dg.solve_ilp(time_limit=30, warm_start=False, verbose=False)\n",
    "    schedule = dg.get_schedule()\n",
    "    milp_pp = AutoWaveZBPipeline(cfg)\n",
    "    milp_pp.schedule(schedule)\n",
    "    milp_pp.solve_dependencies()\n",
    "    \n",
    "    \n",
    "    try:\n",
    "        off_heur_pp = HeuristicZBVPipeline(cfg)\n",
    "        off_heur_pp.schedule()\n",
    "        off_heur_pp.solve_dependencies()\n",
    "        off_heur_pp_time = off_heur_pp.get_schedule_time(device_wise=False)\n",
    "    except Exception as e:\n",
    "        print(f'Error in official heuristic: {e}')\n",
    "        off_heur_pp_time = -1\n",
    "\n",
    "    \n",
    "    heur_pp_time = heur_pp.get_schedule_time(device_wise=False)\n",
    "    milp_pp_time = milp_pp.get_schedule_time(device_wise=False)\n",
    "    max_time = max(heur_pp_time, off_heur_pp_time, milp_pp_time)\n",
    "    \n",
    "    print(f'Heuristic Schedule: runtime={heur_pp.get_schedule_time(device_wise=True)}')\n",
    "    if print_schedule:\n",
    "        display(heur_pp.print_schedule(time_range=max_time, include_info=False))\n",
    "    \n",
    "    if with_official and print_schedule and off_heur_pp_time > 0:\n",
    "        print(f'Official Heuristic Schedule: runtime={off_heur_pp.get_schedule_time(device_wise=True)}')\n",
    "        display(off_heur_pp.print_schedule(time_range=max_time, include_info=False))\n",
    "\n",
    "    print(f'MILP Schedule: runtime={milp_pp.get_schedule_time(device_wise=True)}')\n",
    "    if print_schedule:\n",
    "        display(milp_pp.print_schedule(time_range=max_time, include_info=False))\n",
    "    "
   ]
  },
  {
   "cell_type": "markdown",
   "metadata": {},
   "source": [
    "Base case"
   ]
  },
  {
   "cell_type": "code",
   "execution_count": null,
   "metadata": {},
   "outputs": [],
   "source": [
    "args = {\n",
    "    \"num_dev\": 4,\n",
    "    \"num_mb\": 8,\n",
    "    \"T_F\": 200,\n",
    "    \"T_B\": 200,\n",
    "    \"T_W\": 200,\n",
    "    \"M_F\": 2,\n",
    "    \"M_B\": -1,\n",
    "    \"M_W\": -1,\n",
    "    \"M_lim\": 16,\n",
    "    \"comm_mat\": generate_comm_mat(1, 4, 0, 0)\n",
    "}\n",
    "\n",
    "compare_heuristic_milp_zbv(**args)"
   ]
  },
  {
   "cell_type": "markdown",
   "metadata": {},
   "source": [
    "Base case: 1.0x mem, low comm cost"
   ]
  },
  {
   "cell_type": "code",
   "execution_count": null,
   "metadata": {},
   "outputs": [],
   "source": [
    "args = {\n",
    "    \"num_dev\": 4,\n",
    "    \"num_mb\": 8,\n",
    "    \"T_F\": 200,\n",
    "    \"T_B\": 200,\n",
    "    \"T_W\": 200,\n",
    "    \"M_F\": 2,\n",
    "    \"M_B\": -1,\n",
    "    \"M_W\": -1,\n",
    "    \"M_lim\": 16,\n",
    "    \"comm_mat\": generate_comm_mat(1, 4, 0, 5)\n",
    "}\n",
    "\n",
    "compare_heuristic_milp_zbv(**args)"
   ]
  },
  {
   "cell_type": "markdown",
   "metadata": {},
   "source": [
    "Base case: half mem limit "
   ]
  },
  {
   "cell_type": "code",
   "execution_count": null,
   "metadata": {},
   "outputs": [],
   "source": [
    "args = {\n",
    "    \"num_dev\": 4,\n",
    "    \"num_mb\": 8,\n",
    "    \"T_F\": 200,\n",
    "    \"T_B\": 200,\n",
    "    \"T_W\": 200,\n",
    "    \"M_F\": 2,\n",
    "    \"M_B\": -1,\n",
    "    \"M_W\": -1,\n",
    "    \"M_lim\": 8,\n",
    "    \"comm_mat\": generate_comm_mat(1, 4, 0, 0)\n",
    "}\n",
    "\n",
    "compare_heuristic_milp_zbv(**args)"
   ]
  },
  {
   "cell_type": "markdown",
   "metadata": {},
   "source": [
    "Base case: imbalance B,W, half mem"
   ]
  },
  {
   "cell_type": "code",
   "execution_count": null,
   "metadata": {},
   "outputs": [],
   "source": [
    "args = {\n",
    "    \"num_dev\": 4,\n",
    "    \"num_mb\": 8,\n",
    "    \"T_F\": 200,\n",
    "    \"T_B\": 230,\n",
    "    \"T_W\": 170,\n",
    "    \"M_F\": 20,\n",
    "    \"M_B\": -8,\n",
    "    \"M_W\": -12,\n",
    "    \"M_lim\": 160,\n",
    "    \"comm_mat\": generate_comm_mat(1, 4, 0, 0)\n",
    "}\n",
    "\n",
    "compare_heuristic_milp_zbv(**args)"
   ]
  },
  {
   "cell_type": "markdown",
   "metadata": {},
   "source": [
    "Base case: imbalance B,W, 0.75x mem"
   ]
  },
  {
   "cell_type": "code",
   "execution_count": null,
   "metadata": {},
   "outputs": [],
   "source": [
    "args = {\n",
    "    \"num_dev\": 4,\n",
    "    \"num_mb\": 8,\n",
    "    \"T_F\": 200,\n",
    "    \"T_B\": 230,\n",
    "    \"T_W\": 170,\n",
    "    \"M_F\": 20,\n",
    "    \"M_B\": -8,\n",
    "    \"M_W\": -12,\n",
    "    \"M_lim\": 120,\n",
    "    \"comm_mat\": generate_comm_mat(1, 4, 0, 0)\n",
    "}\n",
    "\n",
    "compare_heuristic_milp_zbv(**args)"
   ]
  },
  {
   "cell_type": "markdown",
   "metadata": {},
   "source": [
    "Base case: imbalance B,W, half mem"
   ]
  },
  {
   "cell_type": "code",
   "execution_count": null,
   "metadata": {},
   "outputs": [],
   "source": [
    "args = {\n",
    "    \"num_dev\": 4,\n",
    "    \"num_mb\": 8,\n",
    "    \"T_F\": 200,\n",
    "    \"T_B\": 230,\n",
    "    \"T_W\": 170,\n",
    "    \"M_F\": 20,\n",
    "    \"M_B\": -8,\n",
    "    \"M_W\": -12,\n",
    "    \"M_lim\": 80,\n",
    "    \"comm_mat\": generate_comm_mat(1, 4, 0, 0)\n",
    "}\n",
    "\n",
    "compare_heuristic_milp_zbv(**args)"
   ]
  },
  {
   "cell_type": "markdown",
   "metadata": {},
   "source": [
    "cross-DC: 1.0x mem, low comm cost"
   ]
  },
  {
   "cell_type": "code",
   "execution_count": null,
   "metadata": {},
   "outputs": [],
   "source": [
    "args = {\n",
    "    \"num_dev\": 4,\n",
    "    \"num_mb\": 8,\n",
    "    \"T_F\": 200,\n",
    "    \"T_B\": 200,\n",
    "    \"T_W\": 200,\n",
    "    \"M_F\": 20,\n",
    "    \"M_B\": -10,\n",
    "    \"M_W\": -10,\n",
    "    \"M_lim\": 160,\n",
    "    \"comm_mat\": generate_comm_mat(2, 2, 0, 200)\n",
    "}\n",
    "# print(generate_comm_mat(2, 4, 0, 200))\n",
    "\n",
    "compare_heuristic_milp_zbv(**args, with_official=False)"
   ]
  },
  {
   "cell_type": "markdown",
   "metadata": {},
   "source": [
    "cross-DC: inf mem, low comm cost"
   ]
  },
  {
   "cell_type": "code",
   "execution_count": null,
   "metadata": {},
   "outputs": [],
   "source": [
    "args = {\n",
    "    \"num_dev\": 4,\n",
    "    \"num_mb\": 8,\n",
    "    \"T_F\": 200,\n",
    "    \"T_B\": 200,\n",
    "    \"T_W\": 200,\n",
    "    \"M_F\": 20,\n",
    "    \"M_B\": -10,\n",
    "    \"M_W\": -10,\n",
    "    \"M_lim\": 2000,\n",
    "    \"comm_mat\": generate_comm_mat(2, 2, 0, 200)\n",
    "}\n",
    "\n",
    "compare_heuristic_milp_zbv(**args, with_official=False)"
   ]
  },
  {
   "cell_type": "markdown",
   "metadata": {},
   "source": [
    "cross-DC: 1.0x mem, high comm cost"
   ]
  },
  {
   "cell_type": "code",
   "execution_count": null,
   "metadata": {},
   "outputs": [],
   "source": [
    "args = {\n",
    "    \"num_dev\": 4,\n",
    "    \"num_mb\": 8,\n",
    "    \"T_F\": 200,\n",
    "    \"T_B\": 200,\n",
    "    \"T_W\": 200,\n",
    "    \"M_F\": 20,\n",
    "    \"M_B\": -10,\n",
    "    \"M_W\": -10,\n",
    "    \"M_lim\": 160,\n",
    "    \"comm_mat\": generate_comm_mat(2, 2, 0, 600)\n",
    "}\n",
    "\n",
    "compare_heuristic_milp_zbv(**args, with_official=False)"
   ]
  },
  {
   "cell_type": "markdown",
   "metadata": {},
   "source": [
    "cross-DC: inf mem, high comm cost"
   ]
  },
  {
   "cell_type": "code",
   "execution_count": null,
   "metadata": {},
   "outputs": [],
   "source": [
    "args = {\n",
    "    \"num_dev\": 4,\n",
    "    \"num_mb\": 8,\n",
    "    \"T_F\": 200,\n",
    "    \"T_B\": 200,\n",
    "    \"T_W\": 200,\n",
    "    \"M_F\": 20,\n",
    "    \"M_B\": -10,\n",
    "    \"M_W\": -10,\n",
    "    \"M_lim\": 20000,\n",
    "    \"comm_mat\": generate_comm_mat(2, 2, 0, 600)\n",
    "}\n",
    "\n",
    "compare_heuristic_milp_zbv(**args, with_official=False)"
   ]
  },
  {
   "cell_type": "markdown",
   "metadata": {},
   "source": [
    "cross-DC: inf mem, high comm cost, 1.5x mb"
   ]
  },
  {
   "cell_type": "code",
   "execution_count": null,
   "metadata": {},
   "outputs": [],
   "source": [
    "args = {\n",
    "    \"num_dev\": 4,\n",
    "    \"num_mb\": 12,\n",
    "    \"T_F\": 200,\n",
    "    \"T_B\": 200,\n",
    "    \"T_W\": 200,\n",
    "    \"M_F\": 20,\n",
    "    \"M_B\": -10,\n",
    "    \"M_W\": -10,\n",
    "    \"M_lim\": 20000,\n",
    "    \"comm_mat\": generate_comm_mat(2, 2, 0, 600)\n",
    "}\n",
    "\n",
    "compare_heuristic_milp_zbv(**args, with_official=False)"
   ]
  }
 ],
 "metadata": {
  "kernelspec": {
   "display_name": "dev",
   "language": "python",
   "name": "python3"
  },
  "language_info": {
   "codemirror_mode": {
    "name": "ipython",
    "version": 3
   },
   "file_extension": ".py",
   "mimetype": "text/x-python",
   "name": "python",
   "nbconvert_exporter": "python",
   "pygments_lexer": "ipython3",
   "version": "3.10.14"
  }
 },
 "nbformat": 4,
 "nbformat_minor": 2
}
